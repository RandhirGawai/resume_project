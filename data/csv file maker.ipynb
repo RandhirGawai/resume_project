{
 "cells": [
  {
   "cell_type": "code",
   "execution_count": 1,
   "metadata": {},
   "outputs": [
    {
     "name": "stdout",
     "output_type": "stream",
     "text": [
      "CSV file 'blogs.csv' has been created.\n"
     ]
    }
   ],
   "source": [
    "import csv\n",
    "\n",
    "# Sample data\n",
    "data = [\n",
    "    {\"title\": \"Blog 1\", \"content\": \"This is the content of Blog 1.\"},\n",
    "    {\"title\": \"Blog 2\", \"content\": \"This is the content of Blog 2.\"},\n",
    "    {\"title\": \"Blog 3\", \"content\": \"This is the content of Blog 3.\"}\n",
    "]\n",
    "\n",
    "# Specify the CSV file name\n",
    "csv_file = \"blogs.csv\"\n",
    "\n",
    "# Write data to the CSV file\n",
    "with open(csv_file, mode=\"w\", newline=\"\") as file:\n",
    "    writer = csv.DictWriter(file, fieldnames=[\"title\", \"content\"])\n",
    "    \n",
    "    # Write the header row\n",
    "    writer.writeheader()\n",
    "    \n",
    "    # Write the data rows\n",
    "    for row in data:\n",
    "        writer.writerow(row)\n",
    "\n",
    "print(f\"CSV file '{csv_file}' has been created.\")\n"
   ]
  }
 ],
 "metadata": {
  "kernelspec": {
   "display_name": "Python 3",
   "language": "python",
   "name": "python3"
  },
  "language_info": {
   "codemirror_mode": {
    "name": "ipython",
    "version": 3
   },
   "file_extension": ".py",
   "mimetype": "text/x-python",
   "name": "python",
   "nbconvert_exporter": "python",
   "pygments_lexer": "ipython3",
   "version": "3.11.4"
  }
 },
 "nbformat": 4,
 "nbformat_minor": 2
}
